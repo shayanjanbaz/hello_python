{
 "cells": [
  {
   "cell_type": "code",
   "execution_count": 29,
   "id": "28f80137",
   "metadata": {},
   "outputs": [],
   "source": [
    "a=5"
   ]
  },
  {
   "cell_type": "code",
   "execution_count": 30,
   "id": "fdfad23e",
   "metadata": {},
   "outputs": [
    {
     "data": {
      "text/plain": [
       "5"
      ]
     },
     "execution_count": 30,
     "metadata": {},
     "output_type": "execute_result"
    }
   ],
   "source": [
    "a"
   ]
  },
  {
   "cell_type": "code",
   "execution_count": 31,
   "id": "6afa2853",
   "metadata": {},
   "outputs": [],
   "source": [
    "b=10.8"
   ]
  },
  {
   "cell_type": "code",
   "execution_count": 32,
   "id": "e045e305",
   "metadata": {},
   "outputs": [
    {
     "data": {
      "text/plain": [
       "10.8"
      ]
     },
     "execution_count": 32,
     "metadata": {},
     "output_type": "execute_result"
    }
   ],
   "source": [
    "b"
   ]
  },
  {
   "cell_type": "code",
   "execution_count": 33,
   "id": "2d496b05",
   "metadata": {},
   "outputs": [
    {
     "name": "stdout",
     "output_type": "stream",
     "text": [
      "bbbbbb\n",
      "aaaaaa\n"
     ]
    }
   ],
   "source": [
    "print(\"bbbbbb\")\n",
    "print(\"aaaaaa\")"
   ]
  },
  {
   "cell_type": "code",
   "execution_count": 34,
   "id": "3b3aeda4",
   "metadata": {},
   "outputs": [],
   "source": [
    "c=\"shayan\""
   ]
  },
  {
   "cell_type": "code",
   "execution_count": 35,
   "id": "c4d7c56a",
   "metadata": {},
   "outputs": [
    {
     "name": "stdout",
     "output_type": "stream",
     "text": [
      "10 first value of makinmishi\n",
      "10000 second value of makinmishi\n"
     ]
    }
   ],
   "source": [
    "makinmishi = 10\n",
    "print(makinmishi, \"first value of makinmishi\")\n",
    "makinmishi = 10000\n",
    "print(makinmishi, \"second value of makinmishi\")\n"
   ]
  },
  {
   "cell_type": "code",
   "execution_count": 36,
   "id": "c311cff6",
   "metadata": {},
   "outputs": [
    {
     "data": {
      "text/plain": [
       "'shayan'"
      ]
     },
     "execution_count": 36,
     "metadata": {},
     "output_type": "execute_result"
    }
   ],
   "source": [
    "c"
   ]
  },
  {
   "cell_type": "code",
   "execution_count": 37,
   "id": "b913534d",
   "metadata": {},
   "outputs": [
    {
     "data": {
      "text/plain": [
       "float"
      ]
     },
     "execution_count": 37,
     "metadata": {},
     "output_type": "execute_result"
    }
   ],
   "source": [
    "type(b)"
   ]
  },
  {
   "cell_type": "markdown",
   "id": "213a95e6",
   "metadata": {},
   "source": [
    "# Shayan\n",
    "\n",
    "\n",
    "![irrrrrrrrrrrrrrr](1.jpg)"
   ]
  },
  {
   "cell_type": "code",
   "execution_count": 38,
   "id": "3cf28463",
   "metadata": {},
   "outputs": [
    {
     "name": "stdout",
     "output_type": "stream",
     "text": [
      "Salam maman!!!!!😘😘😘😘😘❤️❤️💕\n",
      "123 = 10000 madar\n",
      "123 madar\n"
     ]
    }
   ],
   "source": [
    "print(\"Salam maman!!!!!😘😘😘😘😘❤️❤️💕\")\n",
    "print(f\"{123} = {makinmishi} madar\")\n",
    "print(123, \"madar\")\n"
   ]
  },
  {
   "cell_type": "code",
   "execution_count": 39,
   "id": "f79cb2be",
   "metadata": {},
   "outputs": [
    {
     "data": {
      "text/plain": [
       "5"
      ]
     },
     "execution_count": 39,
     "metadata": {},
     "output_type": "execute_result"
    }
   ],
   "source": [
    "a"
   ]
  },
  {
   "cell_type": "code",
   "execution_count": 40,
   "id": "b3162f18",
   "metadata": {},
   "outputs": [
    {
     "name": "stdout",
     "output_type": "stream",
     "text": [
      "aaaat...\n",
      "tyu\n"
     ]
    }
   ],
   "source": [
    "print(\"aaaat...\" )\n",
    "print (\"tyu\")"
   ]
  },
  {
   "cell_type": "code",
   "execution_count": 41,
   "id": "42c44eb5",
   "metadata": {},
   "outputs": [
    {
     "data": {
      "text/plain": [
       "10.8"
      ]
     },
     "execution_count": 41,
     "metadata": {},
     "output_type": "execute_result"
    }
   ],
   "source": [
    "b"
   ]
  },
  {
   "cell_type": "markdown",
   "id": "e7719eae",
   "metadata": {},
   "source": [
    "Shayan jan dooset daram. Az in be baad karaye jaleb ba ipynb mikonim 💕😍"
   ]
  },
  {
   "cell_type": "code",
   "execution_count": 42,
   "id": "35927dc7",
   "metadata": {},
   "outputs": [
    {
     "data": {
      "text/plain": [
       "float"
      ]
     },
     "execution_count": 42,
     "metadata": {},
     "output_type": "execute_result"
    }
   ],
   "source": [
    "type(b)"
   ]
  },
  {
   "cell_type": "markdown",
   "id": "bc093c70",
   "metadata": {},
   "source": []
  }
 ],
 "metadata": {
  "kernelspec": {
   "display_name": ".venv",
   "language": "python",
   "name": "python3"
  },
  "language_info": {
   "codemirror_mode": {
    "name": "ipython",
    "version": 3
   },
   "file_extension": ".py",
   "mimetype": "text/x-python",
   "name": "python",
   "nbconvert_exporter": "python",
   "pygments_lexer": "ipython3",
   "version": "3.12.11"
  }
 },
 "nbformat": 4,
 "nbformat_minor": 5
}
