{
 "cells": [
  {
   "cell_type": "code",
   "execution_count": 2,
   "id": "28f80137",
   "metadata": {},
   "outputs": [],
   "source": [
    "a=5"
   ]
  },
  {
   "cell_type": "code",
   "execution_count": 3,
   "id": "fdfad23e",
   "metadata": {},
   "outputs": [
    {
     "data": {
      "text/plain": [
       "5"
      ]
     },
     "execution_count": 3,
     "metadata": {},
     "output_type": "execute_result"
    }
   ],
   "source": [
    "a"
   ]
  },
  {
   "cell_type": "code",
   "execution_count": 4,
   "id": "6afa2853",
   "metadata": {},
   "outputs": [],
   "source": [
    "b=10.8"
   ]
  },
  {
   "cell_type": "code",
   "execution_count": 5,
   "id": "e045e305",
   "metadata": {},
   "outputs": [
    {
     "data": {
      "text/plain": [
       "10.8"
      ]
     },
     "execution_count": 5,
     "metadata": {},
     "output_type": "execute_result"
    }
   ],
   "source": [
    "b"
   ]
  },
  {
   "cell_type": "code",
   "execution_count": 6,
   "id": "2d496b05",
   "metadata": {},
   "outputs": [
    {
     "name": "stdout",
     "output_type": "stream",
     "text": [
      "bbbbbb\n",
      "aaaaaa\n"
     ]
    }
   ],
   "source": [
    "print(\"bbbbbb\")\n",
    "print(\"aaaaaa\")"
   ]
  },
  {
   "cell_type": "code",
   "execution_count": 7,
   "id": "3b3aeda4",
   "metadata": {},
   "outputs": [],
   "source": [
    "c=\"shayan\""
   ]
  },
  {
   "cell_type": "code",
   "execution_count": 8,
   "id": "c4d7c56a",
   "metadata": {},
   "outputs": [
    {
     "name": "stdout",
     "output_type": "stream",
     "text": [
      "10 first value of makinmishi\n",
      "10000 second value of makinmishi\n"
     ]
    }
   ],
   "source": [
    "makinmishi = 10\n",
    "print(makinmishi, \"first value of makinmishi\")\n",
    "makinmishi = 10000\n",
    "print(makinmishi, \"second value of makinmishi\")\n"
   ]
  },
  {
   "cell_type": "code",
   "execution_count": null,
   "id": "c311cff6",
   "metadata": {},
   "outputs": [
    {
     "data": {
      "text/plain": [
       "'shayan'"
      ]
     },
     "execution_count": 9,
     "metadata": {},
     "output_type": "execute_result"
    }
   ],
   "source": []
  },
  {
   "cell_type": "code",
   "execution_count": null,
   "id": "b913534d",
   "metadata": {},
   "outputs": [
    {
     "data": {
      "text/plain": [
       "KeyError"
      ]
     },
     "execution_count": 16,
     "metadata": {},
     "output_type": "execute_result"
    }
   ],
   "source": [
    "\"enumerateEnvironmentError6ytuutyutyutyutryutyuytuuyuytuyty\""
   ]
  },
  {
   "cell_type": "markdown",
   "id": "95f6e2a9",
   "metadata": {},
   "source": [
    "g"
   ]
  },
  {
   "cell_type": "code",
   "execution_count": null,
   "id": "48ee7ab6",
   "metadata": {},
   "outputs": [],
   "source": []
  },
  {
   "cell_type": "code",
   "execution_count": null,
   "id": "a5ea8683",
   "metadata": {},
   "outputs": [],
   "source": []
  },
  {
   "cell_type": "markdown",
   "id": "213a95e6",
   "metadata": {},
   "source": [
    "# Shayan\n",
    "\n",
    "\n",
    "![irrrrrrrrrrrrrrr](1.jpg)"
   ]
  },
  {
   "cell_type": "code",
   "execution_count": 11,
   "id": "3cf28463",
   "metadata": {},
   "outputs": [
    {
     "name": "stdout",
     "output_type": "stream",
     "text": [
      "Salam maman!!!!!😘😘😘😘😘❤️❤️💕\n",
      "123 = 10000 madar\n",
      "123 madar\n"
     ]
    }
   ],
   "source": [
    "print(\"Salam maman!!!!!😘😘😘😘😘❤️❤️💕\")\n",
    "print(f\"{123} = {makinmishi} madar\")\n",
    "print(123, \"madar\")\n"
   ]
  },
  {
   "cell_type": "code",
   "execution_count": null,
   "id": "f79cb2be",
   "metadata": {},
   "outputs": [
    {
     "data": {
      "text/plain": [
       "5"
      ]
     },
     "execution_count": 12,
     "metadata": {},
     "output_type": "execute_result"
    }
   ],
   "source": []
  },
  {
   "cell_type": "code",
   "execution_count": 13,
   "id": "b3162f18",
   "metadata": {},
   "outputs": [
    {
     "name": "stdout",
     "output_type": "stream",
     "text": [
      "aaaat...\n",
      "tyu\n"
     ]
    }
   ],
   "source": [
    "print(\"aaaat...\" )\n",
    "print (\"tyu\")"
   ]
  },
  {
   "cell_type": "code",
   "execution_count": 14,
   "id": "42c44eb5",
   "metadata": {},
   "outputs": [
    {
     "data": {
      "text/plain": [
       "10.8"
      ]
     },
     "execution_count": 14,
     "metadata": {},
     "output_type": "execute_result"
    }
   ],
   "source": [
    "b"
   ]
  },
  {
   "cell_type": "markdown",
   "id": "e7719eae",
   "metadata": {},
   "source": [
    "Shayan jan dooset daram. Az in be baad karaye jaleb ba ipynb mikonim 💕😍"
   ]
  },
  {
   "cell_type": "code",
   "execution_count": 15,
   "id": "35927dc7",
   "metadata": {},
   "outputs": [
    {
     "data": {
      "text/plain": [
       "float"
      ]
     },
     "execution_count": 15,
     "metadata": {},
     "output_type": "execute_result"
    }
   ],
   "source": [
    "type(b)"
   ]
  },
  {
   "cell_type": "markdown",
   "id": "bc093c70",
   "metadata": {},
   "source": []
  }
 ],
 "metadata": {
  "kernelspec": {
   "display_name": ".venv",
   "language": "python",
   "name": "python3"
  },
  "language_info": {
   "codemirror_mode": {
    "name": "ipython",
    "version": 3
   },
   "file_extension": ".py",
   "mimetype": "text/x-python",
   "name": "python",
   "nbconvert_exporter": "python",
   "pygments_lexer": "ipython3",
   "version": "3.12.11"
  }
 },
 "nbformat": 4,
 "nbformat_minor": 5
}
